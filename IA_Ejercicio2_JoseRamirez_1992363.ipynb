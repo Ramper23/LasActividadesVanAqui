{
  "nbformat": 4,
  "nbformat_minor": 0,
  "metadata": {
    "colab": {
      "name": "Untitled0.ipynb",
      "provenance": [],
      "authorship_tag": "ABX9TyMtEch7aK83ego1eBThJkgg",
      "include_colab_link": true
    },
    "kernelspec": {
      "name": "python3",
      "display_name": "Python 3"
    },
    "language_info": {
      "name": "python"
    }
  },
  "cells": [
    {
      "cell_type": "markdown",
      "metadata": {
        "id": "view-in-github",
        "colab_type": "text"
      },
      "source": [
        "<a href=\"https://colab.research.google.com/github/Ramper23/LasActividadesVanAqui/blob/main/IA_Ejercicio2_JoseRamirez_1992363.ipynb\" target=\"_parent\"><img src=\"https://colab.research.google.com/assets/colab-badge.svg\" alt=\"Open In Colab\"/></a>"
      ]
    },
    {
      "cell_type": "code",
      "execution_count": 45,
      "metadata": {
        "colab": {
          "base_uri": "https://localhost:8080/"
        },
        "id": "2ZNxtO95x0J7",
        "outputId": "4e4f7cba-e732-4200-9015-8c2039a269a0"
      },
      "outputs": [
        {
          "output_type": "stream",
          "name": "stdout",
          "text": [
            "Lista original ('100', '200', '300')\n",
            "300 200 100\n"
          ]
        }
      ],
      "source": [
        "thislist = (\"100\", \"200\", \"300\")\n",
        "print(\"Lista original\",thislist)\n",
        "print(thislist[-1],thislist[-2],thislist[-3])\n",
        "\n",
        "\n",
        "\n",
        "\n",
        "\n",
        "\n",
        " "
      ]
    }
  ]
}