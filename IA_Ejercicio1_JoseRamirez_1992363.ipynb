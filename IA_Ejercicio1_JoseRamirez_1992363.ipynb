{
  "nbformat": 4,
  "nbformat_minor": 0,
  "metadata": {
    "colab": {
      "name": "Untitled0.ipynb",
      "provenance": [],
      "authorship_tag": "ABX9TyN5rqHpY//r2p+pIzfKtaG4",
      "include_colab_link": true
    },
    "kernelspec": {
      "name": "python3",
      "display_name": "Python 3"
    },
    "language_info": {
      "name": "python"
    }
  },
  "cells": [
    {
      "cell_type": "markdown",
      "metadata": {
        "id": "view-in-github",
        "colab_type": "text"
      },
      "source": [
        "<a href=\"https://colab.research.google.com/github/Ramper23/LasActividadesVanAqui/blob/main/IA_Ejercicio1_JoseRamirez_1992363.ipynb\" target=\"_parent\"><img src=\"https://colab.research.google.com/assets/colab-badge.svg\" alt=\"Open In Colab\"/></a>"
      ]
    },
    {
      "cell_type": "code",
      "execution_count": 86,
      "metadata": {
        "colab": {
          "base_uri": "https://localhost:8080/"
        },
        "id": "2ZNxtO95x0J7",
        "outputId": "f0b1df17-1d53-4c7a-8370-3111b943ebd5"
      },
      "outputs": [
        {
          "output_type": "stream",
          "name": "stdout",
          "text": [
            "******\n",
            "* Mi *\n",
            "* nombre *\n",
            "* es *\n",
            "* Jose *\n",
            "* Ramirez *\n",
            "******\n"
          ]
        }
      ],
      "source": [
        "\"Jose Manuel Ramirez Perez 1992363 Ejercicios Básicos en Python V1\"\n",
        "Message=[\"Mi\", \"nombre\", \"es\",\"Jose\",\"Ramirez\"]\n",
        "print(\"******\")\n",
        "for x in Message:\n",
        " print(\"*\",x,\"*\");\n",
        "print(\"******\")\n",
        "\n",
        " \n",
        "\n",
        " \n",
        " \n",
        "\n",
        "\n",
        "\n",
        "\n",
        "\n",
        " "
      ]
    }
  ]
}