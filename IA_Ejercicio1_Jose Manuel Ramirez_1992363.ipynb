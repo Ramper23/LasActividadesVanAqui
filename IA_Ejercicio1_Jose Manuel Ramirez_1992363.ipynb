{
  "nbformat": 4,
  "nbformat_minor": 0,
  "metadata": {
    "colab": {
      "name": "Untitled0.ipynb",
      "provenance": [],
      "authorship_tag": "ABX9TyMZvbOuAJB1OjOdDr7Ioj58",
      "include_colab_link": true
    },
    "kernelspec": {
      "name": "python3",
      "display_name": "Python 3"
    },
    "language_info": {
      "name": "python"
    }
  },
  "cells": [
    {
      "cell_type": "markdown",
      "metadata": {
        "id": "view-in-github",
        "colab_type": "text"
      },
      "source": [
        "<a href=\"https://colab.research.google.com/github/Ramper23/LasActividadesVanAqui/blob/main/IA_Ejercicio1_Jose%20Manuel%20Ramirez_1992363.ipynb\" target=\"_parent\"><img src=\"https://colab.research.google.com/assets/colab-badge.svg\" alt=\"Open In Colab\"/></a>"
      ]
    },
    {
      "cell_type": "code",
      "execution_count": 38,
      "metadata": {
        "colab": {
          "base_uri": "https://localhost:8080/"
        },
        "id": "2ZNxtO95x0J7",
        "outputId": "93a4f294-50af-4664-b122-1d74003c3057"
      },
      "outputs": [
        {
          "output_type": "stream",
          "name": "stdout",
          "text": [
            "Cual es tu nombre:Pedro\n",
            "Vuelve a intentar\n"
          ]
        }
      ],
      "source": [
        "\"Jose Manuel Ramirez Perez 1992363 Ejercicios Básicos en Python\"\n",
        "message = input(\"Cual es tu nombre:\")\n",
        "a = (\"Juan\")\n",
        "b = (\"Pedro\")\n",
        "c = (\"Ana\")\n",
        "if message == a:\n",
        "  print(\"Vuelve a intentar\")\n",
        "elif message == b:\n",
        "  print(\"Vuelve a intentar\")\n",
        "elif message == c:\n",
        "  print(\"Vuelve a intentar\")\n",
        "else:\n",
        "    print(\"Hola\",message)\n",
        "\n",
        "\n",
        "\n",
        "\n",
        "\n",
        " "
      ]
    }
  ]
}